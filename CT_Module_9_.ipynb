{
  "nbformat": 4,
  "nbformat_minor": 0,
  "metadata": {
    "colab": {
      "provenance": [],
      "collapsed_sections": [],
      "authorship_tag": "ABX9TyPStO2LAVMhuNOQbmMFeZCS",
      "include_colab_link": true
    },
    "kernelspec": {
      "name": "python3",
      "display_name": "Python 3"
    },
    "language_info": {
      "name": "python"
    }
  },
  "cells": [
    {
      "cell_type": "markdown",
      "metadata": {
        "id": "view-in-github",
        "colab_type": "text"
      },
      "source": [
        "<a href=\"https://colab.research.google.com/github/madawi84/it-cert-automation-practice/blob/master/CT_Module_9_.ipynb\" target=\"_parent\"><img src=\"https://colab.research.google.com/assets/colab-badge.svg\" alt=\"Open In Colab\"/></a>"
      ]
    },
    {
      "cell_type": "markdown",
      "source": [
        "**1-Download the iris.csv file, example: https://gist.github.com/netj/8836201. From this file the label (target) is defined with the ‘variety’ column and the features with ‘epal.length’, ‘sepal.width’, ‘petal.length’, ‘petal.width’ columns.**"
      ],
      "metadata": {
        "id": "ig04it89-3M0"
      }
    },
    {
      "cell_type": "code",
      "execution_count": 7,
      "metadata": {
        "id": "eAwwkZ66-UQY"
      },
      "outputs": [],
      "source": [
        "#loading data sets\n",
        "from sklearn import datasets\n",
        "from sklearn.datasets import load_iris\n",
        "import numpy as np\n",
        "import pandas as pd"
      ]
    },
    {
      "cell_type": "markdown",
      "source": [
        "load the iris dataset"
      ],
      "metadata": {
        "id": "r3XMQT4O_CSE"
      }
    },
    {
      "cell_type": "code",
      "source": [
        "iris = load_iris()\n",
        "#ptint the feature names and the target \n",
        "print(iris.feature_names)\n",
        "print(iris.target_names)\n",
        "#print the shape of iris data set\n",
        "iris.data.shape"
      ],
      "metadata": {
        "colab": {
          "base_uri": "https://localhost:8080/"
        },
        "id": "zkF4Sqj5_FuS",
        "outputId": "73873e07-93af-4079-ab15-ae2756943dd2"
      },
      "execution_count": 8,
      "outputs": [
        {
          "output_type": "stream",
          "name": "stdout",
          "text": [
            "['sepal length (cm)', 'sepal width (cm)', 'petal length (cm)', 'petal width (cm)']\n",
            "['setosa' 'versicolor' 'virginica']\n"
          ]
        },
        {
          "output_type": "execute_result",
          "data": {
            "text/plain": [
              "(150, 4)"
            ]
          },
          "metadata": {},
          "execution_count": 8
        }
      ]
    },
    {
      "cell_type": "markdown",
      "source": [
        "**2-Preprocess the iris.csv file by label encoding the target ‘variety’ column.**"
      ],
      "metadata": {
        "id": "pFvIH_oe_zNQ"
      }
    },
    {
      "cell_type": "code",
      "source": [
        "#import sklearn.preprocessing Model to convert categorical data of the target to numeric data\n",
        "from sklearn import preprocessing\n",
        "# label_encoder object knows how to understand word labels.\n",
        "le = preprocessing.LabelEncoder()\n",
        "# Encode labels in column 'variety'.\n",
        "iris.target_names= le.fit_transform(iris.target_names)\n",
        "#display the variety values after encoding\n",
        "print(iris.target_names)\n"
      ],
      "metadata": {
        "colab": {
          "base_uri": "https://localhost:8080/"
        },
        "id": "3Hu37Qu8_0-M",
        "outputId": "8d268817-f0b9-40dd-b898-46877a342059"
      },
      "execution_count": 9,
      "outputs": [
        {
          "output_type": "stream",
          "name": "stdout",
          "text": [
            "[0 1 2]\n"
          ]
        }
      ]
    },
    {
      "cell_type": "markdown",
      "source": [
        "**3-Apply the following Machine Learning classification models: K Nearest Neighbors and Random Forests.**"
      ],
      "metadata": {
        "id": "PXrCut7fFUyE"
      }
    },
    {
      "cell_type": "markdown",
      "source": [
        "First shuffle the data to randomize it, then split the data into a training set and a testing set to prepare to train and test the model.\n",
        "\n",
        "\n"
      ],
      "metadata": {
        "id": "MZDLK4DlG9gP"
      }
    },
    {
      "cell_type": "code",
      "source": [
        "from sklearn.model_selection import train_test_split\n",
        "\n",
        "X_train, X_test, y_train, y_test = train_test_split(iris.data, iris.target, random_state=0)"
      ],
      "metadata": {
        "id": "ypO0Hh-eFcGK"
      },
      "execution_count": 10,
      "outputs": []
    },
    {
      "cell_type": "markdown",
      "source": [
        "printing the size of each dataset and target set\n",
        "\n"
      ],
      "metadata": {
        "id": "bQFd3Gh-Hyrh"
      }
    },
    {
      "cell_type": "code",
      "source": [
        "print(X_train.shape)\n",
        "print(X_test.shape)\n",
        "print(y_train.shape)\n",
        "print(y_test.shape)\n"
      ],
      "metadata": {
        "colab": {
          "base_uri": "https://localhost:8080/"
        },
        "id": "aA3w8Mf5HzPC",
        "outputId": "57c8843c-b913-4a6d-d797-49386c220269"
      },
      "execution_count": 11,
      "outputs": [
        {
          "output_type": "stream",
          "name": "stdout",
          "text": [
            "(112, 4)\n",
            "(38, 4)\n",
            "(112,)\n",
            "(38,)\n"
          ]
        }
      ]
    },
    {
      "cell_type": "markdown",
      "source": [
        "**A)K Nearest Nighbors**"
      ],
      "metadata": {
        "id": "QcPHp0JZFe9N"
      }
    },
    {
      "cell_type": "markdown",
      "source": [
        "create the KNeighborsClassifier estimator object"
      ],
      "metadata": {
        "id": "7z291vytIYYM"
      }
    },
    {
      "cell_type": "code",
      "source": [
        "from sklearn.neighbors import KNeighborsClassifier\n",
        "knn = KNeighborsClassifier()"
      ],
      "metadata": {
        "id": "mKP1IGriIZnK"
      },
      "execution_count": 12,
      "outputs": []
    },
    {
      "cell_type": "markdown",
      "source": [
        "invoke the KNeighborsClassifier object’s fit method to load the sample training set and target training set into the estimator"
      ],
      "metadata": {
        "id": "-hmdbwbeIqsv"
      }
    },
    {
      "cell_type": "code",
      "source": [
        "#create the estimator\n",
        "knn.fit(X=X_train, y=y_train)"
      ],
      "metadata": {
        "colab": {
          "base_uri": "https://localhost:8080/"
        },
        "id": "JWaNcstfI3eL",
        "outputId": "1fb097ee-b5aa-484e-f84e-5437db46fe53"
      },
      "execution_count": 13,
      "outputs": [
        {
          "output_type": "execute_result",
          "data": {
            "text/plain": [
              "KNeighborsClassifier()"
            ]
          },
          "metadata": {},
          "execution_count": 13
        }
      ]
    },
    {
      "cell_type": "markdown",
      "source": [
        "Making predictions"
      ],
      "metadata": {
        "id": "RQoIAC1yNRG4"
      }
    },
    {
      "cell_type": "code",
      "source": [
        "#Calling the predict method with data trin set to predicte the class of each test sample:\n",
        "predicted = knn.predict(X=X_test)\n",
        "expected = y_test\n",
        "\n",
        "# Visualizing the Expected vs. Predicted for the first 10 samples\n",
        "df = pd.DataFrame()\n",
        "df['Expected'] = pd.Series(expected[:10])\n",
        "df['Predicted'] = pd.Series(predicted[:10])\n",
        "print(df)\n",
        "\n",
        "#locate all the incorrect predictions for the entire test set.\n",
        "incorrect = [(p, e) for (p, e) in zip(predicted, expected) if p != e]\n",
        "print(incorrect)"
      ],
      "metadata": {
        "colab": {
          "base_uri": "https://localhost:8080/"
        },
        "id": "b8o0HiZtNT6X",
        "outputId": "6634710e-4a75-4746-a345-eced39bda74b"
      },
      "execution_count": 14,
      "outputs": [
        {
          "output_type": "stream",
          "name": "stdout",
          "text": [
            "   Expected  Predicted\n",
            "0         2          2\n",
            "1         1          1\n",
            "2         0          0\n",
            "3         2          2\n",
            "4         0          0\n",
            "5         2          2\n",
            "6         0          0\n",
            "7         1          1\n",
            "8         1          1\n",
            "9         1          1\n",
            "[(2, 1)]\n"
          ]
        }
      ]
    },
    {
      "cell_type": "markdown",
      "source": [
        "**4A-Calculate the following classification metrics to validate the model: Accuracy Score, Confusion Matrix and Classification Report.**"
      ],
      "metadata": {
        "id": "tdQvFxTnPZ0O"
      }
    },
    {
      "cell_type": "markdown",
      "source": [
        " **Accuracy Score**"
      ],
      "metadata": {
        "id": "GPUO4MTCPcFW"
      }
    },
    {
      "cell_type": "code",
      "source": [
        "print(f'{knn.score(X_test, y_test):.2%}')"
      ],
      "metadata": {
        "colab": {
          "base_uri": "https://localhost:8080/"
        },
        "id": "FkXrCZHyPiRb",
        "outputId": "757ac90c-5c89-442f-a6fa-c7f3b1ad9dca"
      },
      "execution_count": 15,
      "outputs": [
        {
          "output_type": "stream",
          "name": "stdout",
          "text": [
            "97.37%\n"
          ]
        }
      ]
    },
    {
      "cell_type": "markdown",
      "source": [
        "**Confusion Matrix**"
      ],
      "metadata": {
        "id": "hWZnZ-SgPyEX"
      }
    },
    {
      "cell_type": "code",
      "source": [
        "#import the confusion_matrix module\n",
        "from sklearn.metrics import confusion_matrix\n",
        "confusion = confusion_matrix(y_true=expected, y_pred=predicted)\n",
        "print(confusion) "
      ],
      "metadata": {
        "colab": {
          "base_uri": "https://localhost:8080/"
        },
        "id": "fa8A3w7qP0Mv",
        "outputId": "0dbed565-103f-4ea1-84a2-63c5d66ad551"
      },
      "execution_count": 16,
      "outputs": [
        {
          "output_type": "stream",
          "name": "stdout",
          "text": [
            "[[13  0  0]\n",
            " [ 0 15  1]\n",
            " [ 0  0  9]]\n"
          ]
        }
      ]
    },
    {
      "cell_type": "markdown",
      "source": [
        "**Classification Report**"
      ],
      "metadata": {
        "id": "SGCkWZ0mQHBI"
      }
    },
    {
      "cell_type": "code",
      "source": [
        "#import classification_report module\n",
        "from sklearn.metrics import classification_report\n",
        "names = [str(i) for i in iris.target_names]\n",
        "print(classification_report(expected, predicted, target_names=names))"
      ],
      "metadata": {
        "colab": {
          "base_uri": "https://localhost:8080/"
        },
        "id": "9ffTB3KnQNHN",
        "outputId": "92ca600f-5259-41e9-908a-dd0ef4bda8a7"
      },
      "execution_count": 17,
      "outputs": [
        {
          "output_type": "stream",
          "name": "stdout",
          "text": [
            "              precision    recall  f1-score   support\n",
            "\n",
            "           0       1.00      1.00      1.00        13\n",
            "           1       1.00      0.94      0.97        16\n",
            "           2       0.90      1.00      0.95         9\n",
            "\n",
            "    accuracy                           0.97        38\n",
            "   macro avg       0.97      0.98      0.97        38\n",
            "weighted avg       0.98      0.97      0.97        38\n",
            "\n"
          ]
        }
      ]
    },
    {
      "cell_type": "markdown",
      "source": [
        "**B)Random Forest**"
      ],
      "metadata": {
        "id": "5CPVTt9bVtKp"
      }
    },
    {
      "cell_type": "code",
      "source": [
        "#Import randomforestclassifier Model\n",
        "from sklearn.ensemble import RandomForestClassifier\n",
        "X_train, X_test, y_train, y_test = train_test_split(iris.data, iris.target, random_state=0)\n",
        "#create the classifier\n",
        "rfc=RandomForestClassifier(n_estimators = 100)\n",
        "#Train the model using the training sets\n",
        "rfc.fit(X_train,y_train)\n",
        "#performing predictions on the test dataset\n",
        "y_pred = rfc.predict(X_test)\n"
      ],
      "metadata": {
        "id": "ZdZsxSCfVulR"
      },
      "execution_count": 18,
      "outputs": []
    },
    {
      "cell_type": "markdown",
      "source": [
        "**4B-Calculate the following classification metrics to validate the model: Accuracy Score, Confusion Matrix and Classification Report.**"
      ],
      "metadata": {
        "id": "wggkjM5OYfSt"
      }
    },
    {
      "cell_type": "markdown",
      "source": [
        " **Accuracy Score**"
      ],
      "metadata": {
        "id": "qtQUr9nuX7Xr"
      }
    },
    {
      "cell_type": "code",
      "source": [
        "print(f'{rfc.score(X_test, y_test):.2%}')"
      ],
      "metadata": {
        "colab": {
          "base_uri": "https://localhost:8080/"
        },
        "id": "cn80Gz97X_KA",
        "outputId": "69c7723b-1bfe-4e80-a068-cb675216dd73"
      },
      "execution_count": null,
      "outputs": [
        {
          "output_type": "stream",
          "name": "stdout",
          "text": [
            "97.37%\n"
          ]
        }
      ]
    },
    {
      "cell_type": "markdown",
      "source": [
        "**Confusion Matrix**"
      ],
      "metadata": {
        "id": "BxGp3NUzYoNd"
      }
    },
    {
      "cell_type": "code",
      "source": [
        "confusion = confusion_matrix(y_true=expected, y_pred=predicted)\n",
        "print(confusion) "
      ],
      "metadata": {
        "colab": {
          "base_uri": "https://localhost:8080/"
        },
        "id": "bwHLsEWlYo0l",
        "outputId": "3d80eaba-c10c-4051-f8a0-4fc94f5a6e6e"
      },
      "execution_count": null,
      "outputs": [
        {
          "output_type": "stream",
          "name": "stdout",
          "text": [
            "[[13  0  0]\n",
            " [ 0 15  1]\n",
            " [ 0  0  9]]\n"
          ]
        }
      ]
    },
    {
      "cell_type": "markdown",
      "source": [
        "**Classification Report**"
      ],
      "metadata": {
        "id": "X8zRFPlaYwoL"
      }
    },
    {
      "cell_type": "code",
      "source": [
        "names = [str(i) for i in iris.target_names]\n",
        "print(classification_report(expected, predicted, target_names=names))"
      ],
      "metadata": {
        "colab": {
          "base_uri": "https://localhost:8080/"
        },
        "id": "JNbgZMY0Y785",
        "outputId": "fa7fc482-9710-439a-a8d9-6909727f1cd7"
      },
      "execution_count": null,
      "outputs": [
        {
          "output_type": "stream",
          "name": "stdout",
          "text": [
            "              precision    recall  f1-score   support\n",
            "\n",
            "           0       1.00      1.00      1.00        13\n",
            "           1       1.00      0.94      0.97        16\n",
            "           2       0.90      1.00      0.95         9\n",
            "\n",
            "    accuracy                           0.97        38\n",
            "   macro avg       0.97      0.98      0.97        38\n",
            "weighted avg       0.98      0.97      0.97        38\n",
            "\n"
          ]
        }
      ]
    }
  ]
}